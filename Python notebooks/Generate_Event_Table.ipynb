{
 "cells": [
  {
   "cell_type": "markdown",
   "metadata": {},
   "source": [
    "# Generate Flux Event Table\n",
    "\n",
    "This notebook analyzes every fluxbot and each event in order to generate a single dataframe of our flux estimates. This dataframe is then written out as `all_events.csv`. The `.csv` file is the basis for subequent analyses that will be included in our manuscript. As such, this notebook should be fully executable using only the files and code contained in our repository."
   ]
  },
  {
   "cell_type": "code",
   "execution_count": 1,
   "metadata": {},
   "outputs": [],
   "source": [
    "import pandas as pd\n",
    "import numpy as np\n",
    "from fluxbot import Fluxbot\n",
    "%matplotlib inline"
   ]
  },
  {
   "cell_type": "markdown",
   "metadata": {},
   "source": [
    "## Load Datafiles.\n",
    "\n",
    "Our raw datafiles are contained in the `/data` directory that is contained in this repository. A permanent link to these raw data can be found [here]()."
   ]
  },
  {
   "cell_type": "code",
   "execution_count": 2,
   "metadata": {},
   "outputs": [
    {
     "name": "stdout",
     "output_type": "stream",
     "text": [
      "['data/avgP/NMWC_OS1.csv', 'data/avgP/NO_UT2.csv', 'data/avgP/NO_UT3.csv', 'data/avgP/NMWC_OS2.csv', 'data/avgP/NO_UT1.csv', 'data/avgP/NMWC_OS3.csv', 'data/avgP/NMWC_UT3.csv', 'data/avgP/NMWC_UT2.csv', 'data/avgP/NO_OS1.csv', 'data/avgP/NO_OS3.csv', 'data/avgP/NMWC_UT1.csv', 'data/avgP/NO_OS2.csv', 'data/avgP/NO_OM3.csv', 'data/avgP/NO_OM2.csv', 'data/avgP/NO_OM1.csv', 'data/avgP/NMWC_OM2.csv', 'data/avgP/NMWC_OM3.csv', 'data/avgP/NMWC_OM1.csv']\n"
     ]
    }
   ],
   "source": [
    "import glob\n",
    "do_avgP = True\n",
    "\n",
    "if do_avgP:\n",
    "    data_dir = 'data/avgP'\n",
    "else:\n",
    "    data_dir = 'data'\n",
    "\n",
    "data_files = glob.glob(\"{dir}/*[A-Z][0-9].csv\".format(dir=data_dir))\n",
    "\n",
    "\n",
    "print(data_files)"
   ]
  },
  {
   "cell_type": "code",
   "execution_count": null,
   "metadata": {},
   "outputs": [],
   "source": [
    "# data_file = data_files[0]\n",
    "# fluxbot = Fluxbot(filename=data_file, do_avgP=do_avgP)\n",
    "# fluxbot.generate_output(valid_only=False)"
   ]
  },
  {
   "cell_type": "code",
   "execution_count": null,
   "metadata": {},
   "outputs": [],
   "source": [
    "# file = 'data/something/name'\n",
    "# dir_name, file_name = file.split('/')[-2:]"
   ]
  },
  {
   "cell_type": "code",
   "execution_count": null,
   "metadata": {},
   "outputs": [],
   "source": [
    "# fluxbot.events[50].calculate_flux()\n",
    "# fluxbot.events[50].output()"
   ]
  },
  {
   "cell_type": "markdown",
   "metadata": {},
   "source": [
    "## Create a List of Fluxbots\n",
    "\n",
    "This first step takes the longest amount of time. As each fluxbot is loaded, we parse the data and extract events from the raw fluxbot datafile. These events are then analyzed to:\n",
    "\n",
    "* extract ambient CO$_2$ concentrations from data for each event\n",
    "* transform CO$_2$ concentrations into mass\n",
    "* re-baseline CO$_2$ mass for each event into a difference from initial condition. \n",
    "* fit polynomials to the changes in CO$_2$ mass using linear, 2nd-order, and cubic fits.\n",
    "* save polynomial parameters, R$^2$ values, and parameter uncertainty estimates\n",
    "* generate event output\n",
    "* write out the flux calculations for each fluxbot\n"
   ]
  },
  {
   "cell_type": "code",
   "execution_count": 3,
   "metadata": {},
   "outputs": [
    {
     "name": "stdout",
     "output_type": "stream",
     "text": [
      "Doing calculations for data/avgP/NMWC_OS1.csv\n"
     ]
    },
    {
     "name": "stderr",
     "output_type": "stream",
     "text": [
      "/Users/kellycaylor/Documents/dev/fluxbots/fluxbot.py:1039: SettingWithCopyWarning:\n",
      "\n",
      "\n",
      "A value is trying to be set on a copy of a slice from a DataFrame.\n",
      "Try using .loc[row_indexer,col_indexer] = value instead\n",
      "\n",
      "See the caveats in the documentation: http://pandas.pydata.org/pandas-docs/stable/user_guide/indexing.html#returning-a-view-versus-a-copy\n",
      "\n"
     ]
    },
    {
     "name": "stdout",
     "output_type": "stream",
     "text": [
      "Generating output for Northern MWC Plot, Open Soil Replicate 1\n",
      "Generating output for events and bad events\n",
      "Writing output file data/avgP/NMWC_OS1_output_20_humidity_correction_avgP.csv\n",
      "Doing calculations for data/avgP/NO_UT2.csv\n",
      "Generating output for Northern O Plot, Under Tree Replicate 2\n",
      "Generating output for events and bad events\n",
      "Writing output file data/avgP/NO_UT2_output_20_humidity_correction_avgP.csv\n",
      "Doing calculations for data/avgP/NO_UT3.csv\n",
      "Generating output for Northern O Plot, Under Tree Replicate 3\n",
      "Generating output for events and bad events\n",
      "Writing output file data/avgP/NO_UT3_output_20_humidity_correction_avgP.csv\n",
      "Doing calculations for data/avgP/NMWC_OS2.csv\n"
     ]
    },
    {
     "name": "stderr",
     "output_type": "stream",
     "text": [
      "/Users/kellycaylor/Documents/dev/fluxbots/fluxbot.py:133: RuntimeWarning:\n",
      "\n",
      "divide by zero encountered in double_scalars\n",
      "\n"
     ]
    },
    {
     "name": "stdout",
     "output_type": "stream",
     "text": [
      "Generating output for Northern MWC Plot, Open Soil Replicate 2\n",
      "Generating output for events and bad events\n",
      "Writing output file data/avgP/NMWC_OS2_output_20_humidity_correction_avgP.csv\n",
      "Doing calculations for data/avgP/NO_UT1.csv\n",
      "Generating output for Northern O Plot, Under Tree Replicate 1\n",
      "Generating output for events and bad events\n",
      "Writing output file data/avgP/NO_UT1_output_20_humidity_correction_avgP.csv\n",
      "Doing calculations for data/avgP/NMWC_OS3.csv\n",
      "Generating output for Northern MWC Plot, Open Soil Replicate 3\n",
      "Generating output for events and bad events\n",
      "Writing output file data/avgP/NMWC_OS3_output_20_humidity_correction_avgP.csv\n",
      "Doing calculations for data/avgP/NMWC_UT3.csv\n"
     ]
    },
    {
     "name": "stderr",
     "output_type": "stream",
     "text": [
      "/Users/kellycaylor/Documents/dev/fluxbots/fluxbot.py:138: RuntimeWarning:\n",
      "\n",
      "invalid value encountered in double_scalars\n",
      "\n"
     ]
    },
    {
     "name": "stdout",
     "output_type": "stream",
     "text": [
      "Generating output for Northern MWC Plot, Under Tree Replicate 3\n",
      "Generating output for events and bad events\n",
      "Writing output file data/avgP/NMWC_UT3_output_20_humidity_correction_avgP.csv\n",
      "Doing calculations for data/avgP/NMWC_UT2.csv\n",
      "Generating output for Northern MWC Plot, Under Tree Replicate 2\n",
      "Generating output for events and bad events\n",
      "Writing output file data/avgP/NMWC_UT2_output_20_humidity_correction_avgP.csv\n",
      "Doing calculations for data/avgP/NO_OS1.csv\n",
      "Generating output for Northern O Plot, Open Soil Replicate 1\n",
      "Generating output for events and bad events\n",
      "Writing output file data/avgP/NO_OS1_output_20_humidity_correction_avgP.csv\n",
      "Doing calculations for data/avgP/NO_OS3.csv\n",
      "Generating output for Northern O Plot, Open Soil Replicate 3\n",
      "Generating output for events and bad events\n",
      "Writing output file data/avgP/NO_OS3_output_20_humidity_correction_avgP.csv\n",
      "Doing calculations for data/avgP/NMWC_UT1.csv\n",
      "Generating output for Northern MWC Plot, Under Tree Replicate 1\n",
      "Generating output for events and bad events\n",
      "Writing output file data/avgP/NMWC_UT1_output_20_humidity_correction_avgP.csv\n",
      "Doing calculations for data/avgP/NO_OS2.csv\n",
      "Generating output for Northern O Plot, Open Soil Replicate 2\n",
      "Generating output for events and bad events\n",
      "Writing output file data/avgP/NO_OS2_output_20_humidity_correction_avgP.csv\n",
      "Doing calculations for data/avgP/NO_OM3.csv\n",
      "Generating output for Northern O Plot, Termite Soil Replicate 3\n",
      "Generating output for events and bad events\n",
      "Writing output file data/avgP/NO_OM3_output_20_humidity_correction_avgP.csv\n",
      "Doing calculations for data/avgP/NO_OM2.csv\n",
      "Generating output for Northern O Plot, Termite Soil Replicate 2\n",
      "Generating output for events and bad events\n",
      "Writing output file data/avgP/NO_OM2_output_20_humidity_correction_avgP.csv\n",
      "Doing calculations for data/avgP/NO_OM1.csv\n",
      "Generating output for Northern O Plot, Termite Soil Replicate 1\n",
      "Generating output for events and bad events\n",
      "Writing output file data/avgP/NO_OM1_output_20_humidity_correction_avgP.csv\n",
      "Doing calculations for data/avgP/NMWC_OM2.csv\n",
      "Generating output for Northern MWC Plot, Termite Soil Replicate 2\n",
      "Generating output for events and bad events\n",
      "Writing output file data/avgP/NMWC_OM2_output_20_humidity_correction_avgP.csv\n",
      "Doing calculations for data/avgP/NMWC_OM3.csv\n",
      "Generating output for Northern MWC Plot, Termite Soil Replicate 3\n",
      "Generating output for events and bad events\n",
      "Writing output file data/avgP/NMWC_OM3_output_20_humidity_correction_avgP.csv\n",
      "Doing calculations for data/avgP/NMWC_OM1.csv\n",
      "Generating output for Northern MWC Plot, Termite Soil Replicate 1\n",
      "Generating output for events and bad events\n",
      "Writing output file data/avgP/NMWC_OM1_output_20_humidity_correction_avgP.csv\n"
     ]
    }
   ],
   "source": [
    "tag = 'humidity_correction_avgP'\n",
    "for data_file in data_files:\n",
    "    print(\"Doing calculations for {}\".format(data_file))\n",
    "    fluxbot = Fluxbot(filename=data_file,output_tag=tag, do_avgP=do_avgP)\n",
    "    print(\"Generating output for {}\".format(fluxbot.title))\n",
    "    fluxbot.generate_output(valid_only=False)\n",
    "    print(\"Writing output file {}\".format(fluxbot.output_filename))\n",
    "    fluxbot.write()"
   ]
  },
  {
   "cell_type": "markdown",
   "metadata": {},
   "source": [
    "## Testing Area for Single Fluxbot:\n",
    "\n",
    "The code below is to test the functionality for a single fluxbot."
   ]
  },
  {
   "cell_type": "code",
   "execution_count": null,
   "metadata": {},
   "outputs": [],
   "source": [
    "# data_file = 'data/NO OS2.csv'\n",
    "# fluxbot = Fluxbot(filename=data_file)"
   ]
  },
  {
   "cell_type": "code",
   "execution_count": null,
   "metadata": {},
   "outputs": [],
   "source": [
    "# fluxbot.generate_output(valid_only=False)"
   ]
  },
  {
   "cell_type": "markdown",
   "metadata": {},
   "source": [
    "## Generate an `all_events.csv` file\n",
    "\n",
    "The code below reads in all the `output.csv` files in the data directory and appends them into a single, massive dataframe. We then export that dataframe into a new csv file."
   ]
  },
  {
   "cell_type": "code",
   "execution_count": 6,
   "metadata": {},
   "outputs": [
    {
     "name": "stdout",
     "output_type": "stream",
     "text": [
      "['data/avgP/NMWC_OS2_output_20_humidity_correction_avgP.csv', 'data/avgP/NO_OM2_output_20_humidity_correction_avgP.csv', 'data/avgP/NO_OM1_output_20_humidity_correction_avgP.csv', 'data/avgP/NMWC_OS1_output_20_humidity_correction_avgP.csv', 'data/avgP/NMWC_OM1_output_20_humidity_correction_avgP.csv', 'data/avgP/NO_OS1_output_20_humidity_correction_avgP.csv', 'data/avgP/NO_OS2_output_20_humidity_correction_avgP.csv', 'data/avgP/NMWC_OM2_output_20_humidity_correction_avgP.csv', 'data/avgP/NO_UT2_output_20_humidity_correction_avgP.csv', 'data/avgP/NO_UT1_output_20_humidity_correction_avgP.csv', 'data/avgP/NMWC_UT1_output_20_humidity_correction_avgP.csv', 'data/avgP/NMWC_UT2_output_20_humidity_correction_avgP.csv', 'data/avgP/NMWC_UT3_output_20_humidity_correction_avgP.csv', 'data/avgP/NO_UT3_output_20_humidity_correction_avgP.csv', 'data/avgP/NO_OS3_output_20_humidity_correction_avgP.csv', 'data/avgP/NMWC_OM3_output_20_humidity_correction_avgP.csv', 'data/avgP/NMWC_OS3_output_20_humidity_correction_avgP.csv', 'data/avgP/NO_OM3_output_20_humidity_correction_avgP.csv']\n"
     ]
    }
   ],
   "source": [
    "import glob\n",
    "output_files = glob.glob(\"{dir}/*_output_20_humidity_correction_avgP.csv\".format(\n",
    "    dir='data/avgP'))\n",
    "                         \n",
    "print(output_files)\n",
    "len(output_files)\n",
    "df_list = []\n",
    "for file in output_files:\n",
    "    df = pd.read_csv(file)\n",
    "    df_list.append(df)\n",
    "\n",
    "all_output = pd.concat(df_list)\n",
    "all_output.to_csv('data/avgP/all_events_with_bad_20.csv', index=False)"
   ]
  },
  {
   "cell_type": "markdown",
   "metadata": {},
   "source": [
    "## Write function to export event data.\n",
    "\n",
    "This function will be in the `event` object, and will export a single row `DataFrame` with standard columns:\n",
    "\n",
    "- `timestamp`\n",
    "- `year`\n",
    "- `month`\n",
    "- `day`\n",
    "- `hour`\n",
    "- `avg_temp_degC`\n",
    "- `avg_pressure_hPa`\n",
    "- `avg_rel_humidity`\n",
    "- `ambient_CO2_kg`\n",
    "- `ambient_CO2_ppm`\n",
    "- `beta`\n",
    "- `duration`\n",
    "- `change_in_CO2_kg`\n",
    "- `1st_order_beta_0`\n",
    "- `1st_order_beta_0_error`\n",
    "- `1st_order_r_sq`\n",
    "- `2nd_order_beta_0`\n",
    "- `2nd_order_beta_0_error`\n",
    "- `2nd_order_beta_1`\n",
    "- `2nd_order_r_sq`\n",
    "- `flux_umol_m2_sec`\n",
    "- `flux_umol_m2_sec_error`\n",
    "- `qaqc_flags`\n",
    "\n",
    "- OPTIONAL: Include the `CO2_mass` data and `time` data used to do the regression fitting.\n",
    "\n",
    "The `event_output` function will be called from a `fluxbot_output` function. The `fluxbot_output` function will add the following columns to each `event`:\n",
    "\n",
    "- `data_file`\n",
    "- `fluxbot_hardware_version`\n",
    "- `fluxbot_software_version`\n",
    "- `chamber_volume_cm3`\n",
    "- `chamber_area_cm2`\n",
    "- `treatment`\n",
    "- `block`\n",
    "- `location`\n",
    "- `replicate`\n",
    "\n",
    "The `Fluxbot.write` function will create a single dataframe containing all these columns and one row per event for a fluxbot. The output will be written to a `.csv` file by default.\n",
    "\n",
    "Evnetually, there will also be a `Event.write` function, which will export a `.csv` file containing the parsed and smoothed data. This `.csv` file can then be subsequently read in using the `Event.read_csv` function.\n",
    "\n"
   ]
  }
 ],
 "metadata": {
  "kernelspec": {
   "display_name": "fluxbots",
   "language": "python",
   "name": "fluxbots"
  },
  "language_info": {
   "codemirror_mode": {
    "name": "ipython",
    "version": 3
   },
   "file_extension": ".py",
   "mimetype": "text/x-python",
   "name": "python",
   "nbconvert_exporter": "python",
   "pygments_lexer": "ipython3",
   "version": "3.6.7"
  }
 },
 "nbformat": 4,
 "nbformat_minor": 4
}
