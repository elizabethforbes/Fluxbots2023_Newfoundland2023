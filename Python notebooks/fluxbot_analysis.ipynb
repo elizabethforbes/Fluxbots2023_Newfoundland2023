{
 "cells": [
  {
   "cell_type": "code",
   "execution_count": 1,
   "metadata": {},
   "outputs": [],
   "source": [
    "%matplotlib inline\n",
    "import pandas as pd\n",
    "import numpy as np\n",
    "import matplotlib.pyplot as plt\n",
    "import plotly.graph_objs as go\n",
    "import chart_studio.plotly as py\n",
    "from fluxbot import Fluxbot\n",
    "import glob\n",
    "from random import choice\n",
    "\n",
    "\n",
    "import chart_studio\n",
    "#chart_studio.tools.set_credentials_file(username='kcaylor', api_key='IbqM6HtGECKogM2wEN12')"
   ]
  },
  {
   "cell_type": "markdown",
   "metadata": {},
   "source": [
    "## Fluxbot Tests\n"
   ]
  },
  {
   "cell_type": "markdown",
   "metadata": {},
   "source": [
    "## Testing CIRAS Data\n",
    "\n",
    "In the block below, we are creating a `mock` event that will allow us to test and make sure that we can get the same flux calculation from our code as we get from the CIRAS system.\n",
    "\n",
    "\n",
    "1. Import a CIRAS dataset from fixtures [DONE]\n",
    "1. Create a mock dataframe from this CIRAS dataset [DONE-ISH] (we need to calculate CO2_mass)\n",
    "1. Create a mock event using our mocked dataframe that we just made from the CIRAS data.\n",
    "1. Run the `calculate_flux` function for our mocked event.\n",
    "1. Compare the output to our CIRAS value.\n",
    "1. If success, we move on.\n"
   ]
  },
  {
   "cell_type": "code",
   "execution_count": 2,
   "metadata": {},
   "outputs": [
    {
     "ename": "ImportError",
     "evalue": "cannot import name 'CIRASFluxEvent'",
     "output_type": "error",
     "traceback": [
      "\u001b[0;31m---------------------------------------------------------------------------\u001b[0m",
      "\u001b[0;31mImportError\u001b[0m                               Traceback (most recent call last)",
      "\u001b[0;32m<ipython-input-2-cd0df66d256c>\u001b[0m in \u001b[0;36m<module>\u001b[0;34m()\u001b[0m\n\u001b[0;32m----> 1\u001b[0;31m \u001b[0;32mfrom\u001b[0m \u001b[0mfluxbot\u001b[0m \u001b[0;32mimport\u001b[0m \u001b[0mCIRASFluxEvent\u001b[0m\u001b[0;34m\u001b[0m\u001b[0m\n\u001b[0m\u001b[1;32m      2\u001b[0m \u001b[0;32mfrom\u001b[0m \u001b[0mtests\u001b[0m\u001b[0;34m.\u001b[0m\u001b[0mfixtures\u001b[0m \u001b[0;32mimport\u001b[0m \u001b[0mCIRAS_test_dict\u001b[0m\u001b[0;34m\u001b[0m\u001b[0m\n\u001b[1;32m      3\u001b[0m \u001b[0;32mfrom\u001b[0m \u001b[0mtests\u001b[0m\u001b[0;34m.\u001b[0m\u001b[0mtest_fluxbot\u001b[0m \u001b[0;32mimport\u001b[0m \u001b[0mxldate_as_datetime\u001b[0m\u001b[0;34m\u001b[0m\u001b[0m\n\u001b[1;32m      4\u001b[0m \u001b[0;32mimport\u001b[0m \u001b[0mpandas\u001b[0m \u001b[0;32mas\u001b[0m \u001b[0mpd\u001b[0m\u001b[0;34m\u001b[0m\u001b[0m\n\u001b[1;32m      5\u001b[0m \u001b[0;32mfrom\u001b[0m \u001b[0mfluxbot\u001b[0m \u001b[0;32mimport\u001b[0m \u001b[0morder_1_fit\u001b[0m\u001b[0;34m,\u001b[0m \u001b[0morder_2_fit\u001b[0m\u001b[0;34m,\u001b[0m \u001b[0morder_3_fit\u001b[0m\u001b[0;34m,\u001b[0m \u001b[0mFluxbot\u001b[0m\u001b[0;34m\u001b[0m\u001b[0m\n",
      "\u001b[0;31mImportError\u001b[0m: cannot import name 'CIRASFluxEvent'"
     ]
    }
   ],
   "source": [
    "from fluxbot import CIRASFluxEvent\n",
    "from tests.fixtures import CIRAS_test_dict\n",
    "from tests.test_fluxbot import xldate_as_datetime\n",
    "import pandas as pd\n",
    "from fluxbot import order_1_fit, order_2_fit, order_3_fit, Fluxbot\n",
    "\n",
    "# TEST THE CIRAS DATA TO GET CIRAS RESULTS.\n",
    "\n",
    "df_CIRAS = pd.DataFrame(CIRAS_test_dict)\n",
    "df = pd.DataFrame([],columns=['Timestamp','Flux_Event', 'Obs_Interval', 'CO2_mass', 'Pressure', 'Temp', 'Raw.CO2.PPM'])\n",
    "\n",
    "df['Raw.CO2.PPM'] = df_CIRAS['CO2r'] # in micromol/mol aka PPM\n",
    "df['Unix.Epoch.Time'] = df_CIRAS['ExcelTime']\n",
    "df['Timestamp'] = df_CIRAS['ExcelTime'].apply(xldate_as_datetime)\n",
    "df['Temp'] = df_CIRAS['Tsurface'] # in degrees C\n",
    "df['Pressure'] = df_CIRAS['Patm'] # in millibars\n",
    "df['Humidity'] = df_CIRAS['RH'] # in %\n",
    "df['Flux_Event'] = 1\n",
    "df['ActuatorState'] = 0\n",
    "df.index = df['Timestamp']\n",
    "\n",
    "\n",
    "####\n",
    "# calculating CO2 mass, from CIRAS-SRC manual:\n",
    "# 𝑭CO2(g/m2/hr)=(d𝑪μmol/dTmol s)×(𝑷/1013)×(273/273+Tair)×(44.009g/22.414L)×(𝑽 m3/Am2)×(mol/10^6 umol)×(3600s/hr)×(10^3L/m3)\n",
    "####\n",
    "# R (output) = taking out the time conversion as this is not a rate right now, which means output is in g/m2\n",
    "# d𝑪μmol/dTmol = CO2 in ppm (equiv. to μmol/mol)\n",
    "# P = atmospheric pressure in mbar (=hPa)\n",
    "# T = temp of the system volume in C\n",
    "# V = system volume in cm3 (converted to m3)\n",
    "# A = system volume in cm2 (converted to m2)\n",
    "df['CO2_mass_CIRAS_gm2'] = df['Raw.CO2.PPM']*((df.Pressure)/1013)*(273/(273+df.Temp))*(44.009/22.414)*((1170*0.000001)/(78*0.0001))*(1/1000000)*(1000)\n",
    "df['CO2_mass_CIRAS_umolm2'] = df['Raw.CO2.PPM']*((df.Pressure)/1013)*(273/(273+df.Temp))*(1/22.414)*((1170*0.000001)/(78*0.0001))*(1000)\n",
    "\n",
    "# using conversions from fluxbot.py\n",
    "df['CO2_mass_fluxbot'] = (df.Pressure/(8.314*(df.Temp+273))*1.2041)*(df['Raw.CO2.PPM']/1000000)*(44.009/1000)*(2758*0.000001)\n",
    "\n",
    "df.tail()[['CO2_mass_CIRAS_gm2', 'CO2_mass_CIRAS_umolm2', 'CO2_mass_fluxbot']]"
   ]
  },
  {
   "cell_type": "code",
   "execution_count": 3,
   "metadata": {
    "collapsed": true
   },
   "outputs": [],
   "source": [
    "def test_FCO2l(calc, df_CIRAS):\n",
    "    \n",
    "    # Build a test dataframe from the CIRAS data:\n",
    "    df = pd.DataFrame([],columns=['Timestamp','Flux_Event', 'Obs_Interval', 'CO2_mass', 'Pressure', 'Temp', 'Raw.CO2.PPM'])\n",
    "\n",
    "    df['Raw.CO2.PPM'] = df_CIRAS['CO2r'] # in micromol/mol aka PPM\n",
    "    df['Unix.Epoch.Time'] = df_CIRAS['ExcelTime']\n",
    "    df['Timestamp'] = df_CIRAS['ExcelTime'].apply(xldate_as_datetime)\n",
    "    df['Temp'] = df_CIRAS['Tsurface'] # in degrees C\n",
    "    df['Pressure'] = df_CIRAS['Patm'] # in millibars\n",
    "    df['Humidity'] = df_CIRAS['RH'] # in %\n",
    "    df['Flux_Event'] = 1\n",
    "    df['ActuatorState'] = 0\n",
    "    df.index = df['Timestamp']\n",
    "\n",
    "\n",
    "    ####\n",
    "    # calculating CO2 mass, from CIRAS-SRC manual:\n",
    "    # 𝑭CO2(g/m2/hr)=(d𝑪μmol/dTmol s)×(𝑷/1013)×(273/273+Tair)×(44.009g/22.414L)×(𝑽 m3/Am2)×(mol/10^6 umol)×(3600s/hr)×(10^3L/m3)\n",
    "    ####\n",
    "    # R (output) = taking out the time conversion as this is not a rate right now, which means output is in g/m2\n",
    "    # d𝑪μmol/dTmol = CO2 in ppm (equiv. to μmol/mol)\n",
    "    # P = atmospheric pressure in mbar (=hPa)\n",
    "    # T = temp of the system volume in C\n",
    "    # V = system volume in cm3 (converted to m3)\n",
    "    # A = system volume in cm2 (converted to m2)\n",
    "    df['CO2_mass_CIRAS_gm2'] = df['Raw.CO2.PPM']*((df.Pressure)/1013)*(273/(273+df.Temp))*(44.009/22.414)*((1170*0.000001)/(78*0.0001))*(1/1000000)*(1000)\n",
    "    df['CO2_mass_CIRAS_umolm2'] = df['Raw.CO2.PPM']*((df.Pressure)/1013)*(273/(273+df.Temp))*(1/22.414)*((1170*0.000001)/(78*0.0001))*(1000)\n",
    "\n",
    "    # using conversions from fluxbot.py\n",
    "    df['CO2_mass_fluxbot'] = (df.Pressure/(8.314*(df.Temp+273))*1.2041)*(df['Raw.CO2.PPM']/1000000)*(44.009/1000)*(2758*0.000001)\n",
    "\n",
    "    test_CIRAS_event = Event(df, number=df['Flux_Event'][0])\n",
    "    FCO2l = df\n"
   ]
  },
  {
   "cell_type": "code",
   "execution_count": 4,
   "metadata": {},
   "outputs": [
    {
     "ename": "ImportError",
     "evalue": "cannot import name 'order_1_fit'",
     "output_type": "error",
     "traceback": [
      "\u001b[0;31m---------------------------------------------------------------------------\u001b[0m",
      "\u001b[0;31mImportError\u001b[0m                               Traceback (most recent call last)",
      "\u001b[0;32m<ipython-input-4-1892fb99439c>\u001b[0m in \u001b[0;36m<module>\u001b[0;34m()\u001b[0m\n\u001b[1;32m      9\u001b[0m \u001b[0;32mimport\u001b[0m \u001b[0mnumpy\u001b[0m \u001b[0;32mas\u001b[0m \u001b[0mnp\u001b[0m\u001b[0;34m\u001b[0m\u001b[0m\n\u001b[1;32m     10\u001b[0m \u001b[0;32mfrom\u001b[0m \u001b[0mfluxbot\u001b[0m \u001b[0;32mimport\u001b[0m \u001b[0mEvent\u001b[0m\u001b[0;34m\u001b[0m\u001b[0m\n\u001b[0;32m---> 11\u001b[0;31m \u001b[0;32mfrom\u001b[0m \u001b[0mfluxbot\u001b[0m \u001b[0;32mimport\u001b[0m \u001b[0morder_1_fit\u001b[0m\u001b[0;34m,\u001b[0m \u001b[0me_star\u001b[0m\u001b[0;34m\u001b[0m\u001b[0m\n\u001b[0m\u001b[1;32m     12\u001b[0m \u001b[0;32mfrom\u001b[0m \u001b[0mfluxbot\u001b[0m \u001b[0;32mimport\u001b[0m \u001b[0mFluxbot\u001b[0m\u001b[0;34m\u001b[0m\u001b[0m\n\u001b[1;32m     13\u001b[0m \u001b[0;32mfrom\u001b[0m \u001b[0mtests\u001b[0m\u001b[0;34m.\u001b[0m\u001b[0mfixtures\u001b[0m \u001b[0;32mimport\u001b[0m \u001b[0mCIRAS_test_dict\u001b[0m\u001b[0;34m\u001b[0m\u001b[0m\n",
      "\u001b[0;31mImportError\u001b[0m: cannot import name 'order_1_fit'"
     ]
    }
   ],
   "source": [
    "########################################################################################################################\n",
    "# \n",
    "#  This is our main analysis cell where we are trying to sort out the calculations and corrections used in the CIRAS\n",
    "#  flux manual as well as our own ideas around corrections and calculations. \n",
    "#\n",
    "########################################################################################################################\n",
    "\n",
    "import pandas as pd\n",
    "import numpy as np\n",
    "from fluxbot import Event\n",
    "from fluxbot import order_1_fit, e_star\n",
    "from fluxbot import Fluxbot\n",
    "from tests.fixtures import CIRAS_test_dict\n",
    "from tests.test_fluxbot import xldate_as_datetime\n",
    "\n",
    "########################################\n",
    "# SETUP THE CIRAS FLUX TESTS\n",
    "########################################\n",
    "CIRAS_VOLUME = 1151 # milliliters or cubic centimeters\n",
    "CIRAS_AREA = 78 # area of chamber in cm^2\n",
    "\n",
    "df_CIRAS = pd.DataFrame(CIRAS_test_dict)\n",
    "# Build a test dataframe from the CIRAS data:\n",
    "df = pd.DataFrame([],columns=['Timestamp','Flux_Event', 'Obs_Interval', 'CO2_mass', 'Pressure', 'Temp', 'Raw.CO2.PPM'])\n",
    "\n",
    "df['Raw.CO2.PPM'] = df_CIRAS['CO2r'] # in micromol/mol aka PPM\n",
    "df['Unix.Epoch.Time'] = df_CIRAS['ExcelTime']\n",
    "df['Timestamp'] = df_CIRAS['ExcelTime'].apply(xldate_as_datetime)\n",
    "df['Temp'] = df_CIRAS['Tsurface'] # in degrees C\n",
    "df['Pressure'] = df_CIRAS['Patm'] # in millibars\n",
    "df['Humidity'] = df_CIRAS['RH'] # in %\n",
    "df['Flux_Event'] = 1\n",
    "df['ActuatorState'] = 0\n",
    "df.index = df['Timestamp']\n",
    "\n",
    "df['CO2_conc'] = Fluxbot.gas_ppm_to_conc(df['Raw.CO2.PPM'], df['Pressure'], df['Temp'])\n",
    "df['CO2_mass'] = Fluxbot.gas_conc_to_mass(df['CO2_conc'], volume=CIRAS_VOLUME)\n",
    "\n",
    "test_CIRAS_event = Event(df, number=df['Flux_Event'][0], fit_func=order_1_fit)\n",
    "\n",
    "########################################################################\n",
    "# Get final CO2 in ppm (umol/mol) and also in mol/mol\n",
    "########################################################################\n",
    "C_final_ppm = float(test_CIRAS_event.data['Raw.CO2.PPM'][-1])  # Final CO2 in ppm (umol/mol)\n",
    "C_final = test_CIRAS_event.data['Raw.CO2.PPM'][-1]*1000000 # Final CO2 in mol/mol\n",
    "\n",
    "########################################\n",
    "# INTERCOMPARISON OF METHODS\n",
    "########################################\n",
    "\n",
    "# 1. Calcualte the flux using our method (1st order fit):\n",
    "fCO2l_calc = test_CIRAS_event.calculate_flux(area=CIRAS_AREA, units='umol/m2/s')\n",
    "\n",
    "# 2. Let's try to calculate the flux using ppm instead of kg:\n",
    "T = pd.Series((test_CIRAS_event.data.index - test_CIRAS_event.data.index.min()).total_seconds())\n",
    "T.index = test_CIRAS_event.data.index\n",
    "C_ppm = test_CIRAS_event.data['Raw.CO2.PPM'] - test_CIRAS_event.get_ambient(\n",
    "    test_CIRAS_event.raw_df, test_CIRAS_event.number, variable='Raw.CO2.PPM'\n",
    ")\n",
    "\n",
    "p1, f, r2 = order_1_fit(T,C_ppm)  # This is doing all the work for fitting our curves...\n",
    "b = p1[0]  # b is in unit of umol/mol/sec\n",
    "duration = (test_CIRAS_event.data.index.max() - test_CIRAS_event.data.index.min()).seconds\n",
    "change_in_ppm = b * duration  # [umol/mol]\n",
    "P = float(df['Pressure'][0])\n",
    "T = float(df['Temp'][0])\n",
    "change_in_kg_m3 = Fluxbot.gas_ppm_to_conc(change_in_ppm, P, T)\n",
    "change_in_kg = Fluxbot.gas_conc_to_mass(change_in_kg_m3, volume=CIRAS_VOLUME)\n",
    "change_in_g = change_in_kg * 1000\n",
    "g_per_mol_CO2 = 44.009 # g/mol\n",
    "change_in_mol = change_in_g / g_per_mol_CO2\n",
    "area_m2 = (CIRAS_AREA * 0.0001)\n",
    "fCO2 = (change_in_mol*1e6) / duration / area_m2   # FINAL ESTIMATE OF RAW FLUX. [umol/m2/s]\n",
    "\n",
    "fCO2_2 = b * mol_air / area_m2\n",
    "print(\"#####################################################################\")\n",
    "print(\"Original Flux calculation, umol/m2/s: \", fCO2)\n",
    "print(\"      ..... Alternative Flux calculation, umol/m2/s: \", fCO2_2)\n",
    "\n",
    "################################################################################\n",
    "# Double check our change in mol calculations using the mol_air in chamber:\n",
    "################################################################################\n",
    "# Note, we are only doing this to double check our calculations. We prefer \"change_in_mol\":\n",
    "# Here's how to get the moles of dry air in the chamber:\n",
    "rho_a = Fluxbot._air_density(df['Pressure'],df['Temp'])\n",
    "mol_air = Fluxbot._air_mol_volume(rho_a, volume=CIRAS_VOLUME).mean() # just taking a mean.\n",
    "\n",
    "change_in_mol_2 = (change_in_ppm * mol_air) / 1000000\n",
    "print(\"     ...Change in mol CO2, calculations: \",change_in_mol)\n",
    "print(\"     ...Change in mol CO2, using mol air: \",change_in_mol_2)\n",
    "\n",
    "################################################################################\n",
    "# Convert change in H2O relative humidity to change in mmol/mol.\n",
    "################################################################################\n",
    "# We are:\n",
    "# 1. using Teten's Equation to determine saturation vapor pressure (in kPa)\n",
    "# 2. We use RH to determine vapor pressure in kPa\n",
    "# 3. We divide vapor pressure by total pressure (in kPa!) to get mol/mol.\n",
    "# 4. We multiply by 1000 to get mmol/mol.\n",
    "\n",
    "Pinit = (float(df['Pressure'][0])/10)   # Initial Total Pressure in kPa.\n",
    "Pfinal = (float(df['Pressure'][-1])/10) # Final Total Pressure in kPa\n",
    "e_star_init = e_star(df['Temp'][0])     # Initial svp in kPa\n",
    "e_star_final = e_star(df['Temp'][-1])   # Final svp in kPa\n",
    "e_init_ppm = (((float(df['Humidity'][0])/100)*e_star_init)/Pinit) * 1000000     # Initial H2O in ppm\n",
    "e_final_ppm = (((float(df['Humidity'][-1])/100)*e_star_final)/Pfinal) * 1000000 # Final H2O in ppm\n",
    "\n",
    "e_init = (((float(df['Humidity'][0])/100)*e_star_init)/Pinit) * 1000      # Initial H2O in mmol/mol\n",
    "e_final = (((float(df['Humidity'][-1])/100)*e_star_final)/Pfinal) * 1000  # Final H2O in mmol/mol\n",
    "\n",
    "#print(\"H2O initial, final, ppm:\")\n",
    "#print(e_init,e_final)\n",
    "\n",
    "########################################################################\n",
    "# Alternatively, determine change in moles of water vapor using change in ppm:\n",
    "########################################################################\n",
    "g_per_mol_H2O = 18.01528 # g/mol\n",
    "change_in_H2O_ppm = e_final_ppm - e_init_ppm   # Change in H2O ppm, in units of ppm.\n",
    "change_in_H2O_kg_m3 = Fluxbot.gas_ppm_to_conc(change_in_H2O_ppm, P, T, g_per_mol=g_per_mol_H2O)\n",
    "change_in_H2O_kg = Fluxbot.gas_conc_to_mass(change_in_H2O_kg_m3, volume=CIRAS_VOLUME)\n",
    "change_in_H2O_g = change_in_H2O_kg * 1000\n",
    "change_in_mol_H2O = change_in_H2O_g / g_per_mol_H2O\n",
    "E = change_in_mol_H2O\n",
    "\n",
    "########################################################################\n",
    "# Do the Water Vapor Correction (we need to check this still...)\n",
    "########################################################################\n",
    "water_vapor_correction = (C_final_ppm * E) / duration / area_m2 # WARNING. WE ARE DOING THIS WRONG.\n",
    "fCO2_corrected = fCO2 + water_vapor_correction\n",
    "\n",
    "print(\"#####################################################################\")\n",
    "print(\" Our Correction Factor for Water Vapor \")\n",
    "print(\"     ..... Change in H2O, moles: \",E)\n",
    "print(\"     ....  Correction term (C_final * E)/duration), [umol/s]:\",water_vapor_correction)\n",
    "print(\" Corrected flux [umol/m2/s]: \",fCO2_corrected)\n",
    "\n",
    "########################################################################\n",
    "# Do the CIRAS Water Vapor Correction (this is super weird)\n",
    "########################################################################\n",
    "E_CIRAS = (e_final - e_init)/(1000 - e_final)\n",
    "CIRAS_water_vapor_correction = (C_final_ppm * E_CIRAS)\n",
    "b_CIRAS = b + (CIRAS_water_vapor_correction)\n",
    "\n",
    "########################################################################\n",
    "# Convert CIRAS flux in umol/mol/s into umol/m2/s \n",
    "########################################################################\n",
    "P = df['Pressure'][0]\n",
    "T = df['Temp'][0]\n",
    "CIRAS_fCO2 = b_CIRAS * P/1013 * 273/(273 + T) * (1/22.4) * (CIRAS_VOLUME/1000000)/(CIRAS_AREA/10000) * 1000\n",
    "CIRAS_fCO2_raw = b * P/1013 * 273/(273 + T) * (1/22.4) * (CIRAS_VOLUME/1000000)/(CIRAS_AREA/10000) * 1000\n",
    "\n",
    "print(\"#####################################################################\")\n",
    "print(\" CIRAS Original Flux Calculation [umol/m2/s]: \",CIRAS_fCO2_raw)\n",
    "print(\" CIRAS Correction Factor for Water Vapor \")\n",
    "print(\"     ..... CIRAS change in H2O, [mmol/mol]: \",E_CIRAS)\n",
    "print(\"     ..... CIRAS correction term [??]: \",CIRAS_water_vapor_correction)\n",
    "print(\" CIRAS corrected flux [umol/mol/s]:\", b_CIRAS)\n",
    "print(\" CIRAS corrected flux [umol/m2/s]:\", CIRAS_fCO2)\n",
    "print(\" CIRAS corrected flux (using our correction term) [umol/m2/s]: \",CIRAS_fCO2_raw + water_vapor_correction)\n"
   ]
  },
  {
   "cell_type": "code",
   "execution_count": 5,
   "metadata": {
    "collapsed": true
   },
   "outputs": [],
   "source": [
    "# print(\"Change in H2O, moles:\")\n",
    "# print(E)\n",
    "# print(\"Change in CO2, moles:\")\n",
    "# print(change_in_mol)\n",
    "# print(\"dC/dt (b):\")\n",
    "# print(b)\n",
    "# print(\"OUR Correction term (C_final * E)/duration), [umol/s]:\")\n",
    "# water_vapor_correction = (change_in_ppm * E) / duration / area_m2\n",
    "# print(water_vapor_correction)\n",
    "\n",
    "# # Flux is estimated using d(ppm)/dt assuming constant W (mol air)\n",
    "# # But mol air increases by E over duration of observation.\n",
    "# # Therefore, the flux is slightly larger than we think because same ppm at end of duration is a greater amount of gas.\n",
    "# # So. We need to increase the flux.\n",
    "# # Our flux is in umol/m2/sec.\n",
    "# # But! The amount of vapor increased the number of umols of CO2 that we should have inluded in the flux.\n",
    "# # The increase in CO2 umols associated with water vapor increases is the change_in_CO2_ppm * mol_change_in_water_vapor.\n",
    "# # (C_final - C_init)*W + C_final*E\n",
    "# # ((C_final - C_init)*W)/(W+E)/duration = b\n",
    "# # f_corrected = b + (C_final*E)/(W)/duration\n",
    "# # 3. Let's try to calculate the flux using ppm instead of kg and \n",
    "\n",
    "# # so the steps are to make the conversion with humidity BEFORE converting to umol/m2/s\n",
    "# # b is the same: in  PPM (maybe?)\n",
    "# Cfinal_ppm = float(test_CIRAS_event.data['Raw.CO2.PPM'][len(df['Raw.CO2.PPM'])-1])\n",
    "# #Cfinal_mol = ((Fluxbot.CO2_conc_to_mass(Fluxbot.CO2_ppm_to_conc(Cfinal_ppm, P, T), volume = CIRAS_VOLUME))*1000)/g_per_mol_CO2\n",
    "\n",
    "# C_final = test_CIRAS_event.data['Raw.CO2.PPM'][-1]*1000000 # Final CO2 in mol/mol\n",
    "\n",
    "# E_CIRAS = (e_final - e_init)/(1000 - e_final)\n",
    "\n",
    "# print(E * test_CIRAS_event.data['Raw.CO2.PPM'][-1])\n",
    "# print(\"Change in H2O, moles from eq. :\")\n",
    "# print(E_CIRAS)\n",
    "# ## need to add a new test function in .py doc that incorporates Humidity\n",
    "\n",
    "# print(b + C_final * E)"
   ]
  },
  {
   "cell_type": "code",
   "execution_count": 8,
   "metadata": {},
   "outputs": [
    {
     "ename": "NameError",
     "evalue": "name 'df_CIRAS' is not defined",
     "output_type": "error",
     "traceback": [
      "\u001b[0;31m---------------------------------------------------------------------------\u001b[0m",
      "\u001b[0;31mNameError\u001b[0m                                 Traceback (most recent call last)",
      "\u001b[0;32m<ipython-input-8-696d2f49d810>\u001b[0m in \u001b[0;36m<module>\u001b[0;34m()\u001b[0m\n\u001b[1;32m      2\u001b[0m \u001b[0;34m\u001b[0m\u001b[0m\n\u001b[1;32m      3\u001b[0m \u001b[0;31m# 4. Extract the final flux estimate from CIRAS data (also uses 1st order fit?):\u001b[0m\u001b[0;34m\u001b[0m\u001b[0;34m\u001b[0m\u001b[0m\n\u001b[0;32m----> 4\u001b[0;31m \u001b[0mfCO2l\u001b[0m \u001b[0;34m=\u001b[0m \u001b[0mfloat\u001b[0m\u001b[0;34m(\u001b[0m\u001b[0mdf_CIRAS\u001b[0m\u001b[0;34m[\u001b[0m\u001b[0;34m'FCO2l'\u001b[0m\u001b[0;34m]\u001b[0m\u001b[0;34m[\u001b[0m\u001b[0;34m-\u001b[0m\u001b[0;36m1\u001b[0m\u001b[0;34m:\u001b[0m\u001b[0;34m]\u001b[0m\u001b[0;34m)\u001b[0m\u001b[0;34m\u001b[0m\u001b[0m\n\u001b[0m\u001b[1;32m      5\u001b[0m \u001b[0;34m\u001b[0m\u001b[0m\n\u001b[1;32m      6\u001b[0m print(\n",
      "\u001b[0;31mNameError\u001b[0m: name 'df_CIRAS' is not defined"
     ]
    }
   ],
   "source": [
    "#=np.nan # commented out on Jun. 3, 2020 bc I cannot remember why this is here?\n",
    "\n",
    "# 4. Extract the final flux estimate from CIRAS data (also uses 1st order fit?):\n",
    "fCO2l = float(df_CIRAS['FCO2l'][-1:])\n",
    "\n",
    "print(\n",
    "    \"Event calc (mass):\",fCO2l_calc,\n",
    "    \"\\nEvent calc (ppm):\",fCO2_ppm,\n",
    "   # \"\\nEvent calc (ppm w/ RH correction):\",flux_ppm_humidity,\n",
    "    \"\\nCIRAS Data:\",fCO2l)\n",
    "old_flux = 1.88619867413822"
   ]
  },
  {
   "cell_type": "markdown",
   "metadata": {},
   "source": [
    "### testing known quantities (e.g. known concentrations --> units mass) of CO2 against our functions:"
   ]
  },
  {
   "cell_type": "markdown",
   "metadata": {},
   "source": [
    "#### CO2 ppm to CO2 concentration, kg/m^3"
   ]
  },
  {
   "cell_type": "code",
   "execution_count": 6,
   "metadata": {},
   "outputs": [
    {
     "ename": "AttributeError",
     "evalue": "type object 'Fluxbot' has no attribute 'CO2_ppm_to_conc'",
     "output_type": "error",
     "traceback": [
      "\u001b[0;31m---------------------------------------------------------------------------\u001b[0m",
      "\u001b[0;31mAttributeError\u001b[0m                            Traceback (most recent call last)",
      "\u001b[0;32m<ipython-input-6-414dd396391d>\u001b[0m in \u001b[0;36m<module>\u001b[0;34m()\u001b[0m\n\u001b[1;32m     10\u001b[0m             \u001b[0;31m# and 0C\u001b[0m\u001b[0;34m\u001b[0m\u001b[0;34m\u001b[0m\u001b[0m\n\u001b[1;32m     11\u001b[0m \u001b[0;34m\u001b[0m\u001b[0m\n\u001b[0;32m---> 12\u001b[0;31m \u001b[0mCO2_conc_test1\u001b[0m \u001b[0;34m=\u001b[0m \u001b[0mFluxbot\u001b[0m\u001b[0;34m.\u001b[0m\u001b[0mCO2_ppm_to_conc\u001b[0m\u001b[0;34m(\u001b[0m\u001b[0;36m400\u001b[0m\u001b[0;34m,\u001b[0m\u001b[0;36m1013\u001b[0m\u001b[0;34m,\u001b[0m\u001b[0;36m20\u001b[0m\u001b[0;34m)\u001b[0m\u001b[0;34m\u001b[0m\u001b[0m\n\u001b[0m\u001b[1;32m     13\u001b[0m \u001b[0mCO2_conc_test2\u001b[0m \u001b[0;34m=\u001b[0m \u001b[0mFluxbot\u001b[0m\u001b[0;34m.\u001b[0m\u001b[0mCO2_ppm_to_conc\u001b[0m\u001b[0;34m(\u001b[0m\u001b[0;36m400\u001b[0m\u001b[0;34m,\u001b[0m\u001b[0;36m1013\u001b[0m\u001b[0;34m,\u001b[0m\u001b[0;36m10\u001b[0m\u001b[0;34m)\u001b[0m\u001b[0;34m\u001b[0m\u001b[0m\n\u001b[1;32m     14\u001b[0m \u001b[0mCO2_conc_test3\u001b[0m \u001b[0;34m=\u001b[0m \u001b[0mFluxbot\u001b[0m\u001b[0;34m.\u001b[0m\u001b[0mCO2_ppm_to_conc\u001b[0m\u001b[0;34m(\u001b[0m\u001b[0;36m400\u001b[0m\u001b[0;34m,\u001b[0m\u001b[0;36m1013\u001b[0m\u001b[0;34m,\u001b[0m\u001b[0;36m0\u001b[0m\u001b[0;34m)\u001b[0m\u001b[0;34m\u001b[0m\u001b[0m\n",
      "\u001b[0;31mAttributeError\u001b[0m: type object 'Fluxbot' has no attribute 'CO2_ppm_to_conc'"
     ]
    }
   ],
   "source": [
    "# concentration of CO2 at 400ppm, 20C, 1atm (1013hPa) --> ~732mg/m^3 = 0.000732 kg/m^3\n",
    "# concentration of CO2 at 400ppm, 10C, 1atm (1013hPa) --> ~758mg/m^3 = 0.000758 kg/m^3\n",
    "# concentration of CO2 at 400ppm,  0C, 1atm (1013hPa) --> ~785mg/m^3 = 0.000785 kg/m^3\n",
    "\n",
    "\n",
    "# PPM = 400 (standard atmospheric)\n",
    "# pressure = 1013 (hPa, = 1atm)\n",
    "# temperature = 20C (standard room temp),\n",
    "    # and 10C,\n",
    "            # and 0C\n",
    "\n",
    "CO2_conc_test1 = Fluxbot.CO2_ppm_to_conc(400,1013,20)\n",
    "CO2_conc_test2 = Fluxbot.CO2_ppm_to_conc(400,1013,10)\n",
    "CO2_conc_test3 = Fluxbot.CO2_ppm_to_conc(400,1013,0)\n",
    "\n",
    "print(CO2_conc_test1, CO2_conc_test2, CO2_conc_test3)\n",
    "\n",
    "# okay so these numbers are not lining up from the get-go!  \n",
    "# so the issue is in the calculation of PPM --> kg/m3 in our function."
   ]
  },
  {
   "cell_type": "markdown",
   "metadata": {},
   "source": [
    "#### try new function (CO2_ppm_to_conc_alt)\n",
    "#### This function comes from the equation in the CIRAS manual"
   ]
  },
  {
   "cell_type": "code",
   "execution_count": 7,
   "metadata": {},
   "outputs": [
    {
     "ename": "AttributeError",
     "evalue": "type object 'Fluxbot' has no attribute 'CO2_ppm_to_conc_alt'",
     "output_type": "error",
     "traceback": [
      "\u001b[0;31m---------------------------------------------------------------------------\u001b[0m",
      "\u001b[0;31mAttributeError\u001b[0m                            Traceback (most recent call last)",
      "\u001b[0;32m<ipython-input-7-7b6ad0fb9b29>\u001b[0m in \u001b[0;36m<module>\u001b[0;34m()\u001b[0m\n\u001b[0;32m----> 1\u001b[0;31m \u001b[0mCO2_conc_test4\u001b[0m \u001b[0;34m=\u001b[0m \u001b[0mFluxbot\u001b[0m\u001b[0;34m.\u001b[0m\u001b[0mCO2_ppm_to_conc_alt\u001b[0m\u001b[0;34m(\u001b[0m\u001b[0;36m400\u001b[0m\u001b[0;34m,\u001b[0m\u001b[0;36m1013\u001b[0m\u001b[0;34m,\u001b[0m\u001b[0;36m20\u001b[0m\u001b[0;34m)\u001b[0m\u001b[0;34m\u001b[0m\u001b[0m\n\u001b[0m\u001b[1;32m      2\u001b[0m \u001b[0;34m\u001b[0m\u001b[0m\n\u001b[1;32m      3\u001b[0m \u001b[0mprint\u001b[0m\u001b[0;34m(\u001b[0m\u001b[0mCO2_conc_test4\u001b[0m\u001b[0;34m)\u001b[0m\u001b[0;34m\u001b[0m\u001b[0m\n\u001b[1;32m      4\u001b[0m \u001b[0;34m\u001b[0m\u001b[0m\n\u001b[1;32m      5\u001b[0m \u001b[0;31m# okay so the alt version of things works.\u001b[0m\u001b[0;34m\u001b[0m\u001b[0;34m\u001b[0m\u001b[0m\n",
      "\u001b[0;31mAttributeError\u001b[0m: type object 'Fluxbot' has no attribute 'CO2_ppm_to_conc_alt'"
     ]
    }
   ],
   "source": [
    "CO2_conc_test4 = Fluxbot.CO2_ppm_to_conc_alt(400,1013,20)\n",
    "\n",
    "print(CO2_conc_test4)\n",
    "\n",
    "# okay so the alt version of things works.\n",
    "\n",
    "# convert co2 concentration to co2 mass:\n",
    "CO2_mass_test4 = Fluxbot.CO2_conc_to_mass(CO2_conc_test4, volume = 1151)\n",
    "print(CO2_mass_test4)"
   ]
  },
  {
   "cell_type": "code",
   "execution_count": null,
   "metadata": {
    "collapsed": true
   },
   "outputs": [],
   "source": [
    "# using new alt function, calculate flux from CIRAS data\n",
    "df['CO2_conc_alt'] = Fluxbot.CO2_ppm_to_conc_alt(df['Raw.CO2.PPM'], df['Pressure'], df['Temp'])\n",
    "\n",
    "# print(df['CO2_conc_alt'])\n",
    "\n",
    "df['CO2_mass'] = Fluxbot.CO2_conc_to_mass(df['CO2_conc_alt'], volume=CIRAS_VOLUME)\n",
    "\n",
    "# print(df['CO2_mass_alt'])\n",
    "\n",
    "alt_CIRAS_event = Event(df, number=df['Flux_Event'][0], fit_func=order_1_fit)\n",
    "\n",
    "T = pd.Series((alt_CIRAS_event.data.index - alt_CIRAS_event.data.index.min()).total_seconds())\n",
    "C = alt_CIRAS_event.data['CO2_mass'] - test_CIRAS_event.ambient\n",
    "\n",
    "fCO2l_alt = alt_CIRAS_event.calculate_flux(area=CIRAS_AREA, units='umol/m2/s')\n",
    "\n",
    "fCO2l = df_CIRAS['FCO2l'][-1:]\n",
    "\n",
    "print(fCO2l_alt)\n",
    "print(fCO2l)\n",
    "# print(T)\n",
    "# print(C)"
   ]
  },
  {
   "cell_type": "markdown",
   "metadata": {},
   "source": [
    "## conclusions at EOD Weds, May 20, re: above cells of work ^^^\n",
    "### - the conversion of PPM to concentration was off, so I wasn't able to use the function to produce known CO2 concentrations\n",
    "### - made a very simple alternative function (\"CO2_ppm_to_conc_alt\", line 323) to replicate known values\n",
    "### - applied this 'alt' function to convert PPM to concentration\n",
    "### - used those newly-calculated concentrations, converted to mass in flux calc \n",
    "### BUT the flux it calculated was HUGE (1456578520.36 umol/m2/s) <-- how??\n",
    "\n",
    "## SO: the flux calculations might also be incorrect somehow.  need to dive into those polynomials next. How is it that similar raw data is getting calculated so differently?  Is it the one-step vs. two-step issue? (see below)\n",
    "\n",
    "# next step (21st): write new function that calculates slope first (both first and second order) then uses in simpler flux eqn (e.g. Carbone et al. 2011)"
   ]
  },
  {
   "cell_type": "code",
   "execution_count": 9,
   "metadata": {},
   "outputs": [
    {
     "name": "stderr",
     "output_type": "stream",
     "text": [
      "ERROR:root:Line magic function `%CIRAStest_L` not found.\n",
      "ERROR:root:Line magic function `%CIRAStest_C` not found.\n"
     ]
    },
    {
     "ename": "NameError",
     "evalue": "name 'CIRAStest_L' is not defined",
     "output_type": "error",
     "traceback": [
      "\u001b[0;31m---------------------------------------------------------------------------\u001b[0m",
      "\u001b[0;31mNameError\u001b[0m                                 Traceback (most recent call last)",
      "\u001b[0;32m<ipython-input-9-9794acc61530>\u001b[0m in \u001b[0;36m<module>\u001b[0;34m()\u001b[0m\n\u001b[1;32m     18\u001b[0m \u001b[0;34m\u001b[0m\u001b[0m\n\u001b[1;32m     19\u001b[0m \u001b[0;34m\u001b[0m\u001b[0m\n\u001b[0;32m---> 20\u001b[0;31m \u001b[0mCIRAStest_data_L\u001b[0m \u001b[0;34m=\u001b[0m \u001b[0mpd\u001b[0m\u001b[0;34m.\u001b[0m\u001b[0mDataFrame\u001b[0m\u001b[0;34m(\u001b[0m\u001b[0;34m[\u001b[0m\u001b[0mevent\u001b[0m\u001b[0;34m.\u001b[0m\u001b[0mcalculate_flux\u001b[0m\u001b[0;34m(\u001b[0m\u001b[0munits\u001b[0m\u001b[0;34m=\u001b[0m\u001b[0;34m'umol/m2/s'\u001b[0m\u001b[0;34m)\u001b[0m \u001b[0;32mfor\u001b[0m \u001b[0mevent\u001b[0m \u001b[0;32min\u001b[0m \u001b[0mCIRAStest_L\u001b[0m\u001b[0;34m.\u001b[0m\u001b[0mevents\u001b[0m\u001b[0;34m]\u001b[0m\u001b[0;34m)\u001b[0m\u001b[0;34m\u001b[0m\u001b[0m\n\u001b[0m\u001b[1;32m     21\u001b[0m \u001b[0mCIRAStest_data_C\u001b[0m \u001b[0;34m=\u001b[0m \u001b[0mpd\u001b[0m\u001b[0;34m.\u001b[0m\u001b[0mDataFrame\u001b[0m\u001b[0;34m(\u001b[0m\u001b[0;34m[\u001b[0m\u001b[0mevent\u001b[0m\u001b[0;34m.\u001b[0m\u001b[0mcalculate_flux\u001b[0m\u001b[0;34m(\u001b[0m\u001b[0munits\u001b[0m\u001b[0;34m=\u001b[0m\u001b[0;34m'umol/m2/s'\u001b[0m\u001b[0;34m)\u001b[0m \u001b[0;32mfor\u001b[0m \u001b[0mevent\u001b[0m \u001b[0;32min\u001b[0m \u001b[0mCIRAStest_C\u001b[0m\u001b[0;34m.\u001b[0m\u001b[0mevents\u001b[0m\u001b[0;34m]\u001b[0m\u001b[0;34m)\u001b[0m\u001b[0;34m\u001b[0m\u001b[0m\n",
      "\u001b[0;31mNameError\u001b[0m: name 'CIRAStest_L' is not defined"
     ]
    }
   ],
   "source": [
    "# write df to csv\n",
    "# df.to_csv('formattedCIRASdat.csv')\n",
    "\n",
    "# moved manually to 'tests' folder\n",
    "# We want to test our calculation of an event.\n",
    "\n",
    "\n",
    "# manually renamed: ABCD EF1\n",
    "\n",
    "# read data\n",
    "file = glob.glob(\"{dir}/*.csv\".format(dir='testdat'))\n",
    "data_files = glob.glob(\"tests/NMWC OM1.csv\")\n",
    "file = choice(data_files)\n",
    "\n",
    "\n",
    "%CIRAStest_L=Fluxbot(filename=file, event_type='Linear')\n",
    "%CIRAStest_C=Fluxbot(filename=file, event_type='CIRAS')\n",
    "\n",
    "\n",
    "CIRAStest_data_L = pd.DataFrame([event.calculate_flux(units='umol/m2/s') for event in CIRAStest_L.events])\n",
    "CIRAStest_data_C = pd.DataFrame([event.calculate_flux(units='umol/m2/s') for event in CIRAStest_C.events])"
   ]
  },
  {
   "cell_type": "code",
   "execution_count": null,
   "metadata": {
    "collapsed": true
   },
   "outputs": [],
   "source": [
    "# okay now we have the separate issue of it using the wrong volume and area so need to figure that out\n",
    "event = CIRAStest_L.events[1]"
   ]
  },
  {
   "cell_type": "markdown",
   "metadata": {},
   "source": [
    "# Test code to look at our Mpala data"
   ]
  },
  {
   "cell_type": "markdown",
   "metadata": {},
   "source": [
    "## Let's look at one file first"
   ]
  },
  {
   "cell_type": "code",
   "execution_count": 10,
   "metadata": {
    "scrolled": true
   },
   "outputs": [
    {
     "ename": "ValueError",
     "evalue": "not enough values to unpack (expected 2, got 1)",
     "output_type": "error",
     "traceback": [
      "\u001b[0;31m---------------------------------------------------------------------------\u001b[0m",
      "\u001b[0;31mValueError\u001b[0m                                Traceback (most recent call last)",
      "\u001b[0;32m<ipython-input-10-a0234f5aa3fa>\u001b[0m in \u001b[0;36m<module>\u001b[0;34m()\u001b[0m\n\u001b[1;32m      3\u001b[0m \u001b[0mfile\u001b[0m \u001b[0;34m=\u001b[0m \u001b[0mchoice\u001b[0m\u001b[0;34m(\u001b[0m\u001b[0mdata_files\u001b[0m\u001b[0;34m)\u001b[0m\u001b[0;34m\u001b[0m\u001b[0m\n\u001b[1;32m      4\u001b[0m \u001b[0;34m\u001b[0m\u001b[0m\n\u001b[0;32m----> 5\u001b[0;31m \u001b[0mfluxbot_C\u001b[0m\u001b[0;34m=\u001b[0m\u001b[0mFluxbot\u001b[0m\u001b[0;34m(\u001b[0m\u001b[0mfilename\u001b[0m\u001b[0;34m=\u001b[0m\u001b[0mfile\u001b[0m\u001b[0;34m,\u001b[0m \u001b[0mevent_type\u001b[0m\u001b[0;34m=\u001b[0m\u001b[0;34m'CIRAS'\u001b[0m\u001b[0;34m)\u001b[0m\u001b[0;34m\u001b[0m\u001b[0m\n\u001b[0m\u001b[1;32m      6\u001b[0m \u001b[0mfluxbot_S\u001b[0m\u001b[0;34m=\u001b[0m\u001b[0mFluxbot\u001b[0m\u001b[0;34m(\u001b[0m\u001b[0mfilename\u001b[0m\u001b[0;34m=\u001b[0m\u001b[0mfile\u001b[0m\u001b[0;34m,\u001b[0m \u001b[0mevent_type\u001b[0m\u001b[0;34m=\u001b[0m\u001b[0;34m'Simple'\u001b[0m\u001b[0;34m)\u001b[0m\u001b[0;34m\u001b[0m\u001b[0m\n\u001b[1;32m      7\u001b[0m \u001b[0mfluxbot_L\u001b[0m\u001b[0;34m=\u001b[0m\u001b[0mFluxbot\u001b[0m\u001b[0;34m(\u001b[0m\u001b[0mfilename\u001b[0m\u001b[0;34m=\u001b[0m\u001b[0mfile\u001b[0m\u001b[0;34m,\u001b[0m \u001b[0mevent_type\u001b[0m\u001b[0;34m=\u001b[0m\u001b[0;34m'Linear'\u001b[0m\u001b[0;34m)\u001b[0m\u001b[0;34m\u001b[0m\u001b[0m\n",
      "\u001b[0;32m/Users/elizabethforbes/Documents/Mpala/KLEE CO2 sensors project/flux bots summer 2019/Caylor:Forbes Github repo and analysis/fluxbots2019/fluxbot.py\u001b[0m in \u001b[0;36m__init__\u001b[0;34m(self, volume, area, sample_interval, event_type, qaqc_max, smoothing_interval, event_numbers, filename)\u001b[0m\n\u001b[1;32m    164\u001b[0m                 \u001b[0;31m# What interval to use when smoothing raw data for regression. Default is 5 seconds:\u001b[0m\u001b[0;34m\u001b[0m\u001b[0;34m\u001b[0m\u001b[0m\n\u001b[1;32m    165\u001b[0m                 \u001b[0mself\u001b[0m\u001b[0;34m.\u001b[0m\u001b[0msmoothing_interval\u001b[0m \u001b[0;34m=\u001b[0m \u001b[0msmoothing_interval\u001b[0m\u001b[0;34m\u001b[0m\u001b[0m\n\u001b[0;32m--> 166\u001b[0;31m                 \u001b[0mself\u001b[0m\u001b[0;34m.\u001b[0m\u001b[0m_parse_filename\u001b[0m\u001b[0;34m(\u001b[0m\u001b[0mfilename\u001b[0m\u001b[0;34m)\u001b[0m\u001b[0;34m\u001b[0m\u001b[0m\n\u001b[0m\u001b[1;32m    167\u001b[0m                 \u001b[0;31m# if volume == FLUXBOT_VOLUME:\u001b[0m\u001b[0;34m\u001b[0m\u001b[0;34m\u001b[0m\u001b[0m\n\u001b[1;32m    168\u001b[0m                 \u001b[0;31m#       print('Using default fluxbot volume {VOL}'.format(\u001b[0m\u001b[0;34m\u001b[0m\u001b[0;34m\u001b[0m\u001b[0m\n",
      "\u001b[0;32m/Users/elizabethforbes/Documents/Mpala/KLEE CO2 sensors project/flux bots summer 2019/Caylor:Forbes Github repo and analysis/fluxbots2019/fluxbot.py\u001b[0m in \u001b[0;36m_parse_filename\u001b[0;34m(self, file)\u001b[0m\n\u001b[1;32m    224\u001b[0m \u001b[0;34m\u001b[0m\u001b[0m\n\u001b[1;32m    225\u001b[0m                 \u001b[0;31m# 3. Split the file_name to get the treatment.\u001b[0m\u001b[0;34m\u001b[0m\u001b[0;34m\u001b[0m\u001b[0m\n\u001b[0;32m--> 226\u001b[0;31m                 \u001b[0;34m[\u001b[0m\u001b[0mtreatment\u001b[0m\u001b[0;34m,\u001b[0m \u001b[0mremainder\u001b[0m\u001b[0;34m]\u001b[0m \u001b[0;34m=\u001b[0m \u001b[0mfile_name\u001b[0m\u001b[0;34m.\u001b[0m\u001b[0msplit\u001b[0m\u001b[0;34m(\u001b[0m\u001b[0;34m' '\u001b[0m\u001b[0;34m)\u001b[0m\u001b[0;34m\u001b[0m\u001b[0m\n\u001b[0m\u001b[1;32m    227\u001b[0m                 \u001b[0mself\u001b[0m\u001b[0;34m.\u001b[0m\u001b[0mtreatment\u001b[0m \u001b[0;34m=\u001b[0m \u001b[0mtreatment\u001b[0m\u001b[0;34m[\u001b[0m\u001b[0;36m1\u001b[0m\u001b[0;34m:\u001b[0m\u001b[0;34m]\u001b[0m \u001b[0;31m# Treament is the characters after Block\u001b[0m\u001b[0;34m\u001b[0m\u001b[0m\n\u001b[1;32m    228\u001b[0m \u001b[0;34m\u001b[0m\u001b[0m\n",
      "\u001b[0;31mValueError\u001b[0m: not enough values to unpack (expected 2, got 1)"
     ]
    }
   ],
   "source": [
    "# Pick a fluxbot at random\n",
    "data_files = glob.glob(\"{dir}/*.csv\".format(dir='data'))\n",
    "file = choice(data_files)\n",
    "\n",
    "fluxbot_C=Fluxbot(filename=file, event_type='CIRAS')\n",
    "fluxbot_S=Fluxbot(filename=file, event_type='Simple')\n",
    "fluxbot_L=Fluxbot(filename=file, event_type='Linear')\n",
    "\n",
    "# Get the estiamted flux for each event in this fluxbot using implicit for loop:\n",
    "flux_data_C = pd.DataFrame([event.calculate_flux(units='umol/m2/s') for event in fluxbot_C.events])\n",
    "flux_data_S = pd.DataFrame([event.calculate_flux(units='umol/m2/s') for event in fluxbot_S.events])\n",
    "flux_data_L = pd.DataFrame([event.calculate_flux(units='umol/m2/s') for event in fluxbot_L.events])"
   ]
  },
  {
   "cell_type": "code",
   "execution_count": null,
   "metadata": {
    "collapsed": true
   },
   "outputs": [],
   "source": [
    "# flux_data_S.hist()\n",
    "# flux_data_C.hist()\n",
    "# flux_data_L.hist()\n",
    "\n",
    "event = fluxbot_L.events[100]"
   ]
  },
  {
   "cell_type": "code",
   "execution_count": null,
   "metadata": {
    "collapsed": true
   },
   "outputs": [],
   "source": [
    "print(p1[0], p2[0], p3[0])\n",
    "print(p2, p3)\n"
   ]
  },
  {
   "cell_type": "code",
   "execution_count": null,
   "metadata": {
    "collapsed": true
   },
   "outputs": [],
   "source": [
    "from fluxbot import order_1_fit, order_2_fit, order_3_fit\n",
    "\n",
    "event = fluxbot_L.events[100]\n",
    "\n",
    "T = event.data['Unix.Epoch.Time'] - event.data['Unix.Epoch.Time'].min()\n",
    "# set C: C' = C - C_ambient\n",
    "C = event.data['CO2_mass'] - event.ambient\n",
    "\n",
    "\n",
    "print((event.data.index.max() - event.data.index.min()).seconds)\n",
    "\n",
    "p1, f1 = order_1_fit(T,C)\n",
    "\n",
    "p2, f2 = order_2_fit(T,C)\n",
    "\n",
    "p3, f3 = order_3_fit(T,C)\n",
    "\n",
    "\n"
   ]
  },
  {
   "cell_type": "code",
   "execution_count": null,
   "metadata": {
    "collapsed": true
   },
   "outputs": [],
   "source": [
    "\n",
    "def R_sq(y,f):\n",
    "\t\"\"\" Calculates the coefficient of determination\n",
    "\n",
    "\t\tR^2 = 1 - (SS_res/SS_tot)\n",
    "\n",
    "\t\twhere:\n",
    "\t\t\tSS_tot = np.sum((y-np.mean(y))**2)\n",
    "\t\t\tSS_res = np.sum((y-f)**2)\n",
    "\n",
    "\n",
    "\tPrameters\n",
    "\t=========\n",
    "\n",
    "\ty: np.array\n",
    "\t\tvalues\n",
    "\tf: np.array\n",
    "\t\tpredicted values\n",
    "\n",
    "\tReturns\n",
    "\t=======\n",
    "\tR_sq: float\n",
    "\t\tCoefficient of Determination\n",
    "\t\"\"\"\n",
    "\n",
    "\tSS_tot = np.sum((y-np.mean(y))**2)\n",
    "\tSS_res = np.sum((y-f)**2)\n",
    "\tR_sq = 1 - SS_res/SS_tot\n",
    "\n",
    "\treturn R_sq\n"
   ]
  },
  {
   "cell_type": "code",
   "execution_count": null,
   "metadata": {
    "collapsed": true
   },
   "outputs": [],
   "source": [
    "R_sq(C,f3)\n",
    "\n"
   ]
  },
  {
   "cell_type": "code",
   "execution_count": null,
   "metadata": {
    "collapsed": true,
    "scrolled": true
   },
   "outputs": [],
   "source": [
    "print(p2[0]*300)\n",
    "\n",
    "plt.figure()\n",
    "plt.plot(C, '.')\n",
    "plt.plot(f1,'-')\n",
    "plt.title('Linear Fit')\n",
    "\n",
    "plt.figure()\n",
    "plt.plot(C-f1)\n",
    "plt.title('Linear Residuals')\n",
    "\n",
    "\n",
    "plt.figure()\n",
    "plt.plot(C, '.')\n",
    "plt.plot(f2,'-')\n",
    "plt.title('2nd Order Fit')\n",
    "\n",
    "plt.figure()\n",
    "plt.plot(C-f2)\n",
    "plt.title('2nd Order Residuals')\n",
    "\n",
    "plt.figure()\n",
    "plt.plot(C, '.')\n",
    "plt.plot(f3,'-')\n",
    "plt.title('3rd Order Fit')\n",
    "\n",
    "plt.figure()\n",
    "plt.plot(C-f3)\n",
    "plt.title('3rd Order Residuals')\n",
    "\n",
    "\n",
    "\n",
    "#print(np.mean(C-f1))\n",
    "#print(np.mean(C-f2))"
   ]
  },
  {
   "cell_type": "markdown",
   "metadata": {},
   "source": [
    "### THoughts\n",
    "\n"
   ]
  },
  {
   "cell_type": "code",
   "execution_count": null,
   "metadata": {
    "collapsed": true
   },
   "outputs": [],
   "source": [
    "n=1\n",
    "param_initial = [0.5 for i in range(n)]\n",
    "tuple(param_initial)"
   ]
  },
  {
   "cell_type": "code",
   "execution_count": null,
   "metadata": {
    "collapsed": true
   },
   "outputs": [],
   "source": [
    "diff = pd.DataFrame(flux_data_S - flux_data_C)\n",
    "diff.hist()"
   ]
  },
  {
   "cell_type": "code",
   "execution_count": null,
   "metadata": {
    "collapsed": true
   },
   "outputs": [],
   "source": [
    "idx_max_diff = int(diff.loc[diff[0] == diff[0].max()].index.asi8)\n",
    "\n",
    "outlier_C = fluxbot_C.events[idx_max_diff+100]\n",
    "outlier_S = fluxbot_S.events[idx_max_diff+100]\n",
    "\n",
    "plt.figure()\n",
    "# outlier.data.columns\n",
    "plt.plot(outlier_C.data['Unix.Epoch.Time'], outlier_C.data['Raw.CO2.PPM'])\n",
    "plt.plot(outlier_S.data['Unix.Epoch.Time'], outlier_S.data['Raw.CO2.PPM'])\n",
    "\n",
    "print(fluxbot_C.title)\n",
    "\n",
    "print('CIRAS:',fluxbot_C.events[idx_max_diff].calculate_flux(units='umol/m2/s'))\n",
    "print('Simple:',fluxbot_S.events[idx_max_diff].calculate_flux(units='umol/m2/s'))"
   ]
  },
  {
   "cell_type": "code",
   "execution_count": null,
   "metadata": {
    "collapsed": true
   },
   "outputs": [],
   "source": [
    "d = outlier_C.data['Raw.CO2.PPM']\n",
    "d = d - 150\n",
    "d.plot()"
   ]
  },
  {
   "cell_type": "code",
   "execution_count": null,
   "metadata": {
    "collapsed": true
   },
   "outputs": [],
   "source": [
    "plt.figure()\n",
    "plt.plot(flux_data_C, flux_data_S, '.')\n",
    "plt.plot([0, 18],[0, 18],'-')\n",
    "plt.xlabel('CIRAS Flux Calculation')\n",
    "plt.ylabel('Simple Flux Calculation')\n",
    "plt.title('{title}'.format(title=fluxbot_C.title))\n",
    "#flux_data.hist()"
   ]
  },
  {
   "cell_type": "markdown",
   "metadata": {},
   "source": [
    "## Or let's look at all the data right now!\n",
    "\n",
    "Warning: Can take awhile. Maybe don't do this if you are in a hurry."
   ]
  },
  {
   "cell_type": "code",
   "execution_count": 2,
   "metadata": {},
   "outputs": [
    {
     "name": "stdout",
     "output_type": "stream",
     "text": [
      "Using default fluxbot volume 2758\n",
      "Using default fluxbot area 145.5\n"
     ]
    },
    {
     "name": "stderr",
     "output_type": "stream",
     "text": [
      "/Users/kellycaylor/Documents/dev/fluxbots/fluxbot_05_08.py:357: SettingWithCopyWarning:\n",
      "\n",
      "\n",
      "A value is trying to be set on a copy of a slice from a DataFrame.\n",
      "Try using .loc[row_indexer,col_indexer] = value instead\n",
      "\n",
      "See the caveats in the documentation: http://pandas.pydata.org/pandas-docs/stable/user_guide/indexing.html#returning-a-view-versus-a-copy\n",
      "\n"
     ]
    },
    {
     "name": "stdout",
     "output_type": "stream",
     "text": [
      "Using default fluxbot volume 2758\n",
      "Using default fluxbot area 145.5\n",
      "Using default fluxbot volume 2758\n",
      "Using default fluxbot area 145.5\n",
      "Using default fluxbot volume 2758\n",
      "Using default fluxbot area 145.5\n",
      "Using default fluxbot volume 2758\n",
      "Using default fluxbot area 145.5\n",
      "Using default fluxbot volume 2758\n",
      "Using default fluxbot area 145.5\n",
      "Using default fluxbot volume 2758\n",
      "Using default fluxbot area 145.5\n",
      "Using default fluxbot volume 2758\n",
      "Using default fluxbot area 145.5\n",
      "Using default fluxbot volume 2758\n",
      "Using default fluxbot area 145.5\n",
      "Using default fluxbot volume 2758\n",
      "Using default fluxbot area 145.5\n",
      "Using default fluxbot volume 2758\n",
      "Using default fluxbot area 145.5\n",
      "Using default fluxbot volume 2758\n",
      "Using default fluxbot area 145.5\n",
      "Using default fluxbot volume 2758\n",
      "Using default fluxbot area 145.5\n",
      "Using default fluxbot volume 2758\n",
      "Using default fluxbot area 145.5\n",
      "Using default fluxbot volume 2758\n",
      "Using default fluxbot area 145.5\n",
      "Using default fluxbot volume 2758\n",
      "Using default fluxbot area 145.5\n",
      "Using default fluxbot volume 2758\n",
      "Using default fluxbot area 145.5\n",
      "Using default fluxbot volume 2758\n",
      "Using default fluxbot area 145.5\n"
     ]
    }
   ],
   "source": [
    "# Pick a fluxbot at random\n",
    "data_files = glob.glob(\"{dir}/*.csv\".format(dir='data'))\n",
    "\n",
    "all_fluxbots = []\n",
    "all_flux_data = {}\n",
    "for file in data_files:\n",
    "    # Create a fluxbot instance.\n",
    "    all_flux_bots.append(Fluxbot(filename=file))   \n",
    "#    all_flux_data[file] = pd.DataFrame([event.calculate_flux(units='umol/m2/s') for event in fluxbot.events])"
   ]
  },
  {
   "cell_type": "markdown",
   "metadata": {},
   "source": [
    "# Testing for 2nd order coefficients in our flux observation data\n",
    "\n",
    "The code below will take a single fluxbot and analyze every observation interval. We will fit both a linear and a 2nd order polynomial to the data in each observation interval using `order_1_fit` and `order_2_fit` functions in the `fluxbot.py` code. We will then assign these values for each event in the fluxbot.\n",
    "\n"
   ]
  },
  {
   "cell_type": "code",
   "execution_count": 32,
   "metadata": {
    "collapsed": true
   },
   "outputs": [],
   "source": [
    "%matplotlib inline\n",
    "import pandas as pd\n",
    "import numpy as np\n",
    "import matplotlib.pyplot as plt\n",
    "import plotly.graph_objs as go\n",
    "import chart_studio.plotly as py\n",
    "from fluxbot import Fluxbot\n",
    "import glob\n",
    "from random import choice\n",
    "\n",
    "\n",
    "import chart_studio\n",
    "chart_studio.tools.set_credentials_file(username='kcaylor', api_key='IbqM6HtGECKogM2wEN12')"
   ]
  },
  {
   "cell_type": "markdown",
   "metadata": {},
   "source": [
    "## Choose a random fluxbot to analyze\n",
    "\n",
    "This takes a lot of time to do now because we are doing polynomial fits for each event when we create the events.\n"
   ]
  },
  {
   "cell_type": "code",
   "execution_count": 2,
   "metadata": {},
   "outputs": [
    {
     "name": "stdout",
     "output_type": "stream",
     "text": [
      "Using default fluxbot volume 2758\n",
      "Using default fluxbot area 145.5\n"
     ]
    },
    {
     "name": "stderr",
     "output_type": "stream",
     "text": [
      "/Users/kellycaylor/Documents/dev/fluxbots/fluxbot.py:60: RuntimeWarning:\n",
      "\n",
      "invalid value encountered in double_scalars\n",
      "\n"
     ]
    }
   ],
   "source": [
    "data_files = glob.glob(\"{dir}/*.csv\".format(dir='data'))\n",
    "from random import choice\n",
    "\n",
    "fluxbot = Fluxbot(filename=choice(data_files))"
   ]
  },
  {
   "cell_type": "markdown",
   "metadata": {},
   "source": [
    "## Calculate fits for linear, 2nd order, and 3rd order polynomials and display the coefficients/R^2 values"
   ]
  },
  {
   "cell_type": "code",
   "execution_count": 30,
   "metadata": {},
   "outputs": [
    {
     "name": "stdout",
     "output_type": "stream",
     "text": [
      "<Northern O Plot, Under Tree Replicate 1.Fluxbot object at 0x7f93685e0898\n",
      "Flux: 2.0055241356911986 umol/m2/s\n",
      "1st order: [1.16465726e-09], R^2: 0.9201693989562851\n",
      "2nd order: [ 1.28419918e-09 -5.33968748e-13], R^2: 0.9229466919932316\n",
      "3rd order: [ 1.41889697e-09 -2.03814426e-12  3.77936361e-15], R^2: 0.9235763493321183\n"
     ]
    },
    {
     "data": {
      "image/png": "[encoded data removed]",
      "text/plain": [
       "<Figure size 432x288 with 1 Axes>"
      ]
     },
     "metadata": {
      "needs_background": "light"
     },
     "output_type": "display_data"
    }
   ],
   "source": [
    "import matplotlib.pyplot as plt\n",
    "print(fluxbot)\n",
    "event_num = 900\n",
    "betas_1st_order  = fluxbot.events[event_num].betas_1st_order\n",
    "r2_1st_order = fluxbot.events[event_num].R2_1st_order\n",
    "\n",
    "betas_2nd_order  = fluxbot.events[event_num].betas_2nd_order\n",
    "r2_2nd_order = fluxbot.events[event_num].R2_2nd_order\n",
    "\n",
    "betas_3rd_order  = fluxbot.events[event_num].betas_3rd_order\n",
    "r2_3rd_order = fluxbot.events[event_num].R2_3rd_order\n",
    "\n",
    "print('Flux: {0} umol/m2/s'.format(fluxbot.events[event_num].calculate_flux(units='umol/m2/s')))\n",
    "      \n",
    "# Plot?\n",
    "plt.plot(fluxbot.events[event_num].data.index, fluxbot.events[event_num].data['CO2_mass'])\n",
    "\n",
    "print('1st order: {0}, R^2: {1}'.format(betas_1st_order, r2_1st_order))\n",
    "print('2nd order: {0}, R^2: {1}'.format(betas_2nd_order, r2_2nd_order))\n",
    "print('3rd order: {0}, R^2: {1}'.format(betas_3rd_order, r2_3rd_order))"
   ]
  },
  {
   "cell_type": "code",
   "execution_count": 29,
   "metadata": {},
   "outputs": [
    {
     "data": {
      "text/plain": [
       "2.3958801417e-09"
      ]
     },
     "execution_count": 29,
     "metadata": {},
     "output_type": "execute_result"
    }
   ],
   "source": []
  },
  {
   "cell_type": "code",
   "execution_count": 12,
   "metadata": {},
   "outputs": [
    {
     "ename": "TypeError",
     "evalue": "write() argument must be str, not bytes",
     "output_type": "error",
     "traceback": [
      "\u001b[0;31m---------------------------------------------------------------------------\u001b[0m",
      "\u001b[0;31mTypeError\u001b[0m                                 Traceback (most recent call last)",
      "\u001b[0;32m<ipython-input-12-3349bcbaa93b>\u001b[0m in \u001b[0;36m<module>\u001b[0;34m\u001b[0m\n\u001b[1;32m      2\u001b[0m \u001b[0;32mimport\u001b[0m \u001b[0mpickle\u001b[0m\u001b[0;34m\u001b[0m\u001b[0;34m\u001b[0m\u001b[0m\n\u001b[1;32m      3\u001b[0m \u001b[0mfilehandler\u001b[0m \u001b[0;34m=\u001b[0m \u001b[0mopen\u001b[0m\u001b[0;34m(\u001b[0m\u001b[0;34m'all_fluxbots.pickle'\u001b[0m\u001b[0;34m,\u001b[0m \u001b[0;34m'w'\u001b[0m\u001b[0;34m)\u001b[0m\u001b[0;34m\u001b[0m\u001b[0;34m\u001b[0m\u001b[0m\n\u001b[0;32m----> 4\u001b[0;31m \u001b[0mpickle\u001b[0m\u001b[0;34m.\u001b[0m\u001b[0mdump\u001b[0m\u001b[0;34m(\u001b[0m\u001b[0mall_flux_bots\u001b[0m\u001b[0;34m,\u001b[0m \u001b[0mfilehandler\u001b[0m\u001b[0;34m)\u001b[0m\u001b[0;34m\u001b[0m\u001b[0;34m\u001b[0m\u001b[0m\n\u001b[0m",
      "\u001b[0;31mTypeError\u001b[0m: write() argument must be str, not bytes"
     ]
    }
   ],
   "source": [
    "# Let's try to save all the fluxbots into a binary file we can reload later:\n",
    "import pickle\n",
    "filehandler = open('all_fluxbots.pickle', 'w')\n",
    "pickle.dump(all_flux_bots, filehandler)"
   ]
  },
  {
   "cell_type": "code",
   "execution_count": null,
   "metadata": {
    "collapsed": true
   },
   "outputs": [],
   "source": [
    "# If that worked, then we can simply load the pickled data:\n",
    "import pickle\n",
    "filehandler = open('all_fluxbots.pickle', 'r')\n",
    "all_fluxbots = pickle.load(filehandler)"
   ]
  },
  {
   "cell_type": "markdown",
   "metadata": {},
   "source": [
    "### Savage et al. 2008: rolling regression to calculate slope\n",
    "In this paper, the authors used a rolling, overlapping, linear least-squares regression method to determine best-fit for slopes of their CO2 accumulation curves. \n",
    "\n",
    "I suggest we use 120s windows, advanced 30s per regression, for all 5 mins (7 total regressions). Then calculate R2 for each regression, only accepting those >90%, and take the highest R2 of all remaining as representative of the event's slope.\n",
    "\n",
    "We probably need to visually inspect a random selection of accumulation curves to make sure 2mins is large enough of a window to accurately predict slope over the whole 5mins."
   ]
  }
 ],
 "metadata": {
  "kernelspec": {
   "display_name": "Python 3",
   "language": "python",
   "name": "python3"
  },
  "language_info": {
   "codemirror_mode": {
    "name": "ipython",
    "version": 3
   },
   "file_extension": ".py",
   "mimetype": "text/x-python",
   "name": "python",
   "nbconvert_exporter": "python",
   "pygments_lexer": "ipython3",
   "version": "3.6.7"
  }
 },
 "nbformat": 4,
 "nbformat_minor": 4
}
